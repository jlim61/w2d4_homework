{
 "cells": [
  {
   "cell_type": "markdown",
   "metadata": {},
   "source": [
    "# Object-Oriented-Programming (OOP)"
   ]
  },
  {
   "cell_type": "markdown",
   "metadata": {},
   "source": [
    "## Tasks Today:\n",
    "\n",
    "   \n",
    "\n",
    "1) <b>Creating a Class (Initializing/Declaring)</b> <br>\n",
    "2) <b>Using a Class (Instantiating)</b> <br>\n",
    " &nbsp;&nbsp;&nbsp;&nbsp; a) Creating One Instance <br>\n",
    " &nbsp;&nbsp;&nbsp;&nbsp; b) Creating Multiple Instances <br>\n",
    " &nbsp;&nbsp;&nbsp;&nbsp; c) In-Class Exercise #1 - Create a Class 'Car' and instantiate three different makes of cars <br>\n",
    "3) <b>The \\__init\\__() Method</b> <br>\n",
    " &nbsp;&nbsp;&nbsp;&nbsp; a) The 'self' Attribute <br>\n",
    "4) <b>Class Attributes</b> <br>\n",
    " &nbsp;&nbsp;&nbsp;&nbsp; a) Initializing Attributes <br>\n",
    " &nbsp;&nbsp;&nbsp;&nbsp; b) Setting an Attribute Outside of the \\__init\\__() Method <br>\n",
    " &nbsp;&nbsp;&nbsp;&nbsp; c) Setting Defaults for Attributes <br>\n",
    " &nbsp;&nbsp;&nbsp;&nbsp; d) Accessing Class Attributes <br>\n",
    " &nbsp;&nbsp;&nbsp;&nbsp; e) Changing Class Attributes <br>\n",
    " &nbsp;&nbsp;&nbsp;&nbsp; f) In-Class Exercise #2 - Add a color and wheels attribute to your 'Car' class <br>\n",
    "5) <b>Class Methods</b> <br>\n",
    " &nbsp;&nbsp;&nbsp;&nbsp; a) Creating <br>\n",
    " &nbsp;&nbsp;&nbsp;&nbsp; b) Calling <br>\n",
    " &nbsp;&nbsp;&nbsp;&nbsp; c) Modifying an Attribute's Value Through a Method <br>\n",
    " &nbsp;&nbsp;&nbsp;&nbsp; d) Incrementing an Attribute's Value Through a Method <br>\n",
    " &nbsp;&nbsp;&nbsp;&nbsp; e) In-Class Exercise #3 - Add a method that prints the cars color and wheel number, then call them <br>\n",
    "6) <b>Inheritance</b> <br>\n",
    " &nbsp;&nbsp;&nbsp;&nbsp; a) Syntax for Inheriting from a Parent Class <br>\n",
    " &nbsp;&nbsp;&nbsp;&nbsp; b) The \\__init\\__() Method for a Child Class (super()) <br>\n",
    " &nbsp;&nbsp;&nbsp;&nbsp; c) Defining Attributes and Methods for the Child Class <br>\n",
    " &nbsp;&nbsp;&nbsp;&nbsp; d) Method Overriding <br>\n",
    " &nbsp;&nbsp;&nbsp;&nbsp; e) In-Class Exercise #4 - Create a class 'Ford' that inherits from 'Car' class and initialize it as a Blue Ford Explorer with 4 wheels using the super() method <br>\n",
    "7) <b>Classes as Attributes</b> <br>\n",
    "8) <b>Exercises</b> <br>\n",
    " &nbsp;&nbsp;&nbsp;&nbsp; a) Exercise #1 - Turn the shopping cart program from yesterday into an object-oriented program <br>"
   ]
  },
  {
   "cell_type": "markdown",
   "metadata": {},
   "source": [
    "## Creating a Class (Initializing/Declaring)\n",
    "<p>When creating a class, function, or even a variable you are initializing that object. Initializing and Declaring occur at the same time in Python, whereas in lower level languages you have to declare an object before initializing it. This is the first step in the process of using a class.</p>"
   ]
  },
  {
   "cell_type": "code",
   "execution_count": 1,
   "metadata": {},
   "outputs": [],
   "source": [
    "class Car():\n",
    "    wheels = 4\n",
    "    color = 'blue'\n",
    "    \n",
    "# PascalCasing is the syntax for making class names. No spaces and every word is capitalized\n"
   ]
  },
  {
   "cell_type": "code",
   "execution_count": 2,
   "metadata": {},
   "outputs": [],
   "source": [
    "class Agent:\n",
    "    name = 'Smith'\n",
    "    glasses = 'black'\n",
    "    \n"
   ]
  },
  {
   "cell_type": "markdown",
   "metadata": {},
   "source": [
    "## Using a Class (Instantiating)\n",
    "<p>The process of creating a class is called <i>Instantiating</i>. Each time you create a variable of that type of class, it is referred to as an <i>Instance</i> of that class. This is the second step in the process of using a class.</p>"
   ]
  },
  {
   "cell_type": "markdown",
   "metadata": {},
   "source": [
    "##### Creating One Instance"
   ]
  },
  {
   "cell_type": "code",
   "execution_count": 3,
   "metadata": {},
   "outputs": [
    {
     "name": "stdout",
     "output_type": "stream",
     "text": [
      "<__main__.Car object at 0x0000021847A68CD0>\n"
     ]
    }
   ],
   "source": [
    "# when making an instance (ford is the instance) the class it uses needs the ()\n",
    "ford = Car()\n",
    "# note that the initial result is not developer friendly\n",
    "# it shows you the object and memory location\n",
    "print(ford)\n"
   ]
  },
  {
   "cell_type": "code",
   "execution_count": 4,
   "metadata": {},
   "outputs": [
    {
     "name": "stdout",
     "output_type": "stream",
     "text": [
      "<__main__.Agent object at 0x0000021847A7D310>\n"
     ]
    }
   ],
   "source": [
    "agent = Agent()\n",
    "\n",
    "print(agent)"
   ]
  },
  {
   "cell_type": "markdown",
   "metadata": {},
   "source": [
    "##### Creating Multiple Instances"
   ]
  },
  {
   "cell_type": "code",
   "execution_count": 8,
   "metadata": {},
   "outputs": [
    {
     "name": "stdout",
     "output_type": "stream",
     "text": [
      "4\n",
      "4\n"
     ]
    }
   ],
   "source": [
    "chevy = Car()\n",
    "honda = Car()\n",
    "toyota = Car()\n",
    "# we are accessing the instance and it's specific property\n",
    "print(chevy.wheels)\n",
    "print(honda.wheels)"
   ]
  },
  {
   "cell_type": "code",
   "execution_count": 7,
   "metadata": {},
   "outputs": [
    {
     "name": "stdout",
     "output_type": "stream",
     "text": [
      "Smith\n"
     ]
    },
    {
     "data": {
      "text/plain": [
       "'black'"
      ]
     },
     "execution_count": 7,
     "metadata": {},
     "output_type": "execute_result"
    }
   ],
   "source": [
    "agent1 = Agent()\n",
    "agent2 = Agent()\n",
    "\n",
    "print(agent1.name)\n",
    "agent2.glasses"
   ]
  },
  {
   "cell_type": "markdown",
   "metadata": {},
   "source": [
    "##### In-Class Exercise #1 - Create a Class 'Vehicle' and Instantiate three different makes of Vehicle"
   ]
  },
  {
   "cell_type": "code",
   "execution_count": 12,
   "metadata": {},
   "outputs": [],
   "source": [
    "class Vehicle:\n",
    "    type = 'car'\n",
    "    wheels = 4\n",
    "    power = 'gas'\n",
    "\n",
    "audi = Vehicle()\n",
    "subaru = Vehicle()\n",
    "kia = Vehicle()\n"
   ]
  },
  {
   "cell_type": "code",
   "execution_count": 14,
   "metadata": {},
   "outputs": [
    {
     "name": "stdout",
     "output_type": "stream",
     "text": [
      "car\n",
      "4\n",
      "gas\n"
     ]
    }
   ],
   "source": [
    "print(audi.type)\n",
    "print(subaru.wheels)\n",
    "print(kia.power)"
   ]
  },
  {
   "cell_type": "markdown",
   "metadata": {},
   "source": [
    "## The \\__init\\__() Method <br>\n",
    "<p>This method is used in almost every created class, and called only once upon the creation of the class instance. This method will initialize all variables needed for the object.</p>"
   ]
  },
  {
   "cell_type": "code",
   "execution_count": 28,
   "metadata": {},
   "outputs": [
    {
     "name": "stdout",
     "output_type": "stream",
     "text": [
      "honda\n",
      "chevy\n",
      "4 4\n",
      "<Car: honda fit 2008> <Car: chevy impala 2008>\n"
     ]
    }
   ],
   "source": [
    "class Car:\n",
    "    \n",
    "    wheels = 4\n",
    "    \n",
    "#     we are targeting self object with the property\n",
    "    def __init__(self, make, model, year, color):\n",
    "        self.make = make\n",
    "        self.model = model\n",
    "        self.year = year\n",
    "        self.color = color\n",
    "#     repr method just helps format it better so we can see the difference\n",
    "    def __repr__(self):\n",
    "        return f'<Car: {self.make} {self.model} {self.year}>'\n",
    "    \n",
    "# self represents car5.    \n",
    "car5 = Car('honda', 'fit', 2008, 'white')\n",
    "car6 = Car('chevy', 'impala', 2008, 'white')\n",
    "\n",
    "print(car5.make)\n",
    "print(car6.make)\n",
    "\n",
    "print(car5.wheels, car6.wheels)\n",
    "\n",
    "print(car5, car6)"
   ]
  },
  {
   "cell_type": "code",
   "execution_count": 21,
   "metadata": {},
   "outputs": [
    {
     "name": "stdout",
     "output_type": "stream",
     "text": [
      "honda\n",
      "chevy\n",
      "5 5\n",
      "<__main__.Car object at 0x0000021848816C90> <__main__.Car object at 0x0000021848817090>\n"
     ]
    }
   ],
   "source": [
    "# class Car:\n",
    "    \n",
    "#     wheels = 4\n",
    "    \n",
    "# #     we are targeting self object with the property\n",
    "#     def __init__(self, make, model, year, color):\n",
    "#         self.make = make\n",
    "#         self.model = model\n",
    "#         self.year = year\n",
    "#         self.color = color\n",
    "    \n",
    "# # self represents car5.    \n",
    "# car5 = Car('honda', 'fit', 2008, 'white')\n",
    "# car6 = Car('chevy', 'impala', 2008, 'white')\n",
    "\n",
    "# print(car5.make)\n",
    "# print(car6.make)\n",
    "\n",
    "# print(car5.wheels, car6.wheels)\n",
    "\n",
    "# print(car5, car6)"
   ]
  },
  {
   "cell_type": "markdown",
   "metadata": {},
   "source": [
    "##### The 'self' Attribute <br>\n",
    "<p>This attribute is required to keep track of specific instance's attributes. Without the self attribute, the program would not know how to reference or keep track of an instance's attributes.</p>"
   ]
  },
  {
   "cell_type": "code",
   "execution_count": null,
   "metadata": {},
   "outputs": [],
   "source": [
    "# see above"
   ]
  },
  {
   "cell_type": "markdown",
   "metadata": {},
   "source": [
    "## Class Attributes <br>\n",
    "<p>While variables are inside of a class, they are referred to as attributes and not variables. When someone says 'attribute' you know they're speaking about a class. Attributes can be initialized through the init method, or outside of it.</p>"
   ]
  },
  {
   "cell_type": "markdown",
   "metadata": {},
   "source": [
    "##### Initializing Attributes"
   ]
  },
  {
   "cell_type": "code",
   "execution_count": null,
   "metadata": {},
   "outputs": [],
   "source": [
    "# see above"
   ]
  },
  {
   "cell_type": "markdown",
   "metadata": {},
   "source": [
    "##### Accessing Class Attributes"
   ]
  },
  {
   "cell_type": "code",
   "execution_count": 22,
   "metadata": {
    "scrolled": true
   },
   "outputs": [
    {
     "data": {
      "text/plain": [
       "2008"
      ]
     },
     "execution_count": 22,
     "metadata": {},
     "output_type": "execute_result"
    }
   ],
   "source": [
    "# See Above\n",
    "\n",
    "car5.year"
   ]
  },
  {
   "cell_type": "markdown",
   "metadata": {},
   "source": [
    "##### Setting Defaults for Attributes"
   ]
  },
  {
   "cell_type": "code",
   "execution_count": 26,
   "metadata": {},
   "outputs": [
    {
     "name": "stdout",
     "output_type": "stream",
     "text": [
      "<Vehicle: Ford F-3500 2022 Blue> 6\n",
      "<Vehicle: tesla x 2023 red> 4\n"
     ]
    }
   ],
   "source": [
    "class Vehicle:\n",
    "    \n",
    "# default properties go at the end\n",
    "    def __init__(self, make, model, year, color, wheels=4):\n",
    "        self.make = make\n",
    "        self.model = model\n",
    "        self.year = year\n",
    "        self.color = color\n",
    "        self.wheels = wheels\n",
    "#     repr method just helps format it better so we can see the difference\n",
    "    def __repr__(self):\n",
    "        return f'<Vehicle: {self.make} {self.model} {self.year} {self.color}>'\n",
    "    \n",
    "truck = Vehicle('Ford', 'F-3500', 2022, 'Blue', 6)\n",
    "car = Vehicle('tesla', 'x', 2023, 'Red')\n",
    "\n",
    "print(truck, truck.wheels)\n",
    "print(car, car.wheels)"
   ]
  },
  {
   "cell_type": "markdown",
   "metadata": {},
   "source": [
    "##### Changing Class Attributes <br>\n",
    "<p>Keep in mind there are global class attributes and then there are attributes only available to each class instance which won't effect other classes.</p>"
   ]
  },
  {
   "cell_type": "code",
   "execution_count": 34,
   "metadata": {},
   "outputs": [
    {
     "name": "stdout",
     "output_type": "stream",
     "text": [
      "<Car: tesla x 2023> <Car: honda fit 2008>\n",
      "red before paint job\n",
      "egg shell after paint job\n",
      "white\n",
      "3\n",
      "3\n"
     ]
    }
   ],
   "source": [
    "car = Car('tesla', 'x', 2023, 'red')\n",
    "car2 = Car('honda', 'fit', 2008, 'white')\n",
    "\n",
    "print(car, car2)\n",
    "print(car.color, 'before paint job')\n",
    "\n",
    "car.color = 'egg shell'\n",
    "\n",
    "print(car.color, 'after paint job')\n",
    "\n",
    "print(car2.color)\n",
    "# remember there was a global wheels = 4\n",
    "# to update the global, you must access the class (Car - has capitalization)\n",
    "# if you do car.wheels, you would change only that specific class\n",
    "# the below will update the wheels for car and car2 to both 3 instead of 4\n",
    "Car.wheels = 3\n",
    "\n",
    "print(car.wheels)\n",
    "\n",
    "print(car2.wheels)"
   ]
  },
  {
   "cell_type": "code",
   "execution_count": null,
   "metadata": {},
   "outputs": [],
   "source": []
  },
  {
   "cell_type": "markdown",
   "metadata": {},
   "source": [
    "##### In-Class Exercise #2 - Add a doors and seats attribute to your 'Car' class then print out two different instances with different doors and seats"
   ]
  },
  {
   "cell_type": "code",
   "execution_count": 44,
   "metadata": {},
   "outputs": [
    {
     "name": "stdout",
     "output_type": "stream",
     "text": [
      "car\n",
      "4\n",
      "gas\n",
      "<Vehicle: car Wheels: 4 Power: gas Doors: 4 Seats:5>\n",
      "<Vehicle: car Wheels: 4 Power: gas Doors: 4 Seats:5>\n",
      "<Vehicle: scooter Wheels: 4 Power: gas Doors: 0 Seats:1>\n",
      "<Vehicle: car Wheels: 4 Power: gas Doors: 2 Seats:2>\n"
     ]
    }
   ],
   "source": [
    "class Vehicle:\n",
    "    type = 'car'\n",
    "    wheels = 4\n",
    "    power = 'gas'\n",
    "    doors = 4\n",
    "    seats = 5\n",
    "    \n",
    "    # default properties go at the end\n",
    "    def __init__(self, type = 'car', wheels = 4, power = 'gas', doors = 4, seats = 5):\n",
    "        self.type = type\n",
    "        self.wheels = wheels\n",
    "        self.power = power\n",
    "        self.doors = doors\n",
    "        self.seats = seats\n",
    "#     repr method just helps format it better so we can see the difference\n",
    "    def __repr__(self):\n",
    "        return f'<Vehicle: {self.type} Wheels: {self.wheels} Power: {self.power} Doors: {self.doors} Seats:{self.seats}>'\n",
    "\n",
    "audi = Vehicle()\n",
    "subaru = Vehicle()\n",
    "kia = Vehicle()\n",
    "\n",
    "print(audi.type)\n",
    "print(subaru.wheels)\n",
    "print(kia.power)\n",
    "\n",
    "scooter = Vehicle()\n",
    "r8 = Vehicle()\n",
    "\n",
    "print(scooter)\n",
    "print(r8)\n",
    "\n",
    "scooter.doors = 0\n",
    "scooter.seats = 1\n",
    "scooter.type = 'scooter'\n",
    "r8.doors = 2\n",
    "r8.seats = 2\n",
    "\n",
    "print(scooter)\n",
    "print(r8)"
   ]
  },
  {
   "cell_type": "markdown",
   "metadata": {},
   "source": [
    "## Class Methods <br>\n",
    "<p>While inside of a class, functions are referred to as 'methods'. If you hear someone mention methods, they're speaking about classes. Methods are essentially functions, but only callable on the instances of a class.</p>"
   ]
  },
  {
   "cell_type": "markdown",
   "metadata": {},
   "source": [
    "##### Creating"
   ]
  },
  {
   "cell_type": "code",
   "execution_count": 50,
   "metadata": {},
   "outputs": [
    {
     "name": "stdout",
     "output_type": "stream",
     "text": [
      "silver before paint job\n",
      "<Vehicle: honda civic 2020 hot pink>\n",
      "hot pink after paint job\n"
     ]
    },
    {
     "data": {
      "text/plain": [
       "<Vehicle: honda civic 2020 hot pink>"
      ]
     },
     "execution_count": 50,
     "metadata": {},
     "output_type": "execute_result"
    }
   ],
   "source": [
    "astring = 'hello world'\n",
    "\n",
    "astring.lower()\n",
    "\n",
    "class Vehicle:\n",
    "    \n",
    "# default properties go at the end\n",
    "    def __init__(self, make, model, year, color, wheels=4):\n",
    "        self.make = make\n",
    "        self.model = model\n",
    "        self.year = year\n",
    "        self.color = color\n",
    "        self.wheels = wheels\n",
    "#     repr method just helps format it better so we can see the difference\n",
    "    def __repr__(self):\n",
    "        return f'<Vehicle: {self.make} {self.model} {self.year} {self.color}>'\n",
    "#     this is creating a new method that updates color\n",
    "#     we meed to pass in self to target and color to target the color\n",
    "    def update_color(self, color):\n",
    "        self.color = color\n",
    "        print(self)\n",
    "        \n",
    "vehicle = Vehicle('honda', 'civic', 2020, 'silver')\n",
    "\n",
    "print(vehicle.color, 'before paint job')\n",
    "\n",
    "vehicle.update_color('hot pink')\n",
    "\n",
    "print(vehicle.color, 'after paint job')\n",
    "# notice how the color changed\n",
    "vehicle"
   ]
  },
  {
   "cell_type": "code",
   "execution_count": 80,
   "metadata": {},
   "outputs": [
    {
     "name": "stdout",
     "output_type": "stream",
     "text": [
      "[Red] pill to go down the rabbit hole or [Blue] pill to stay where you are?: red\n",
      " you now know boxing wrestling kung fu tae kwon do aikido drunken monk\n",
      "Do you need additional training? [y]/[n]: y\n",
      "What fighting style? bjj\n",
      "Do you need additional training? [y]/[n]: n\n",
      "Agents attacking! Are you ready to enter Matrix? [y]es/[n]o: y\n",
      "Plugging In Entering Matrix\n",
      "1\n",
      "[Red] pill to go down the rabbit hole or [Blue] pill to stay where you are?: red\n",
      "Do you need additional training? [y]/[n]: n\n",
      "Agents attacking! Are you ready to enter Matrix? [y]es/[n]o: n\n",
      "0\n",
      "[Red] pill to go down the rabbit hole or [Blue] pill to stay where you are?: blue\n"
     ]
    }
   ],
   "source": [
    "class MatrixCharacter:\n",
    "    \n",
    "    \"\"\"\n",
    "    make a decision on what pill to take\n",
    "    upon red pill wake up\n",
    "    receive training\n",
    "    enter matrix\n",
    "    exit matrix\n",
    "    do while\n",
    "    \"\"\"\n",
    "    \n",
    "    def __init__(self, name, fighting_styles = []):\n",
    "        self.name = name\n",
    "        self.fighting_styles = fighting_styles\n",
    "        self.trained = False\n",
    "        self.awake = False\n",
    "        self.location = 1\n",
    "        \n",
    "    def driver(self):\n",
    "        self.pill_decision()\n",
    "        while self.awake:\n",
    "            if not self.trained:\n",
    "                self.receive_training()\n",
    "            while True:\n",
    "                user_training = input(\"Do you need additional training? [y]/[n]: \")\n",
    "                if user_training =='y':\n",
    "                    self.additional_training(input(\"What fighting style? \"))\n",
    "                else:\n",
    "                    break\n",
    "            self.update_location()\n",
    "            self.pill_decision()\n",
    "        \n",
    "    def pill_decision(self):\n",
    "        pill = input('[Red] pill to go down the rabbit hole or [Blue] pill to stay where you are?: ').lower()\n",
    "        if pill == 'red':\n",
    "            self.awake = True\n",
    "            self.location = 0\n",
    "        else:\n",
    "            self.awake = False\n",
    "    \n",
    "    def receive_training(self):\n",
    "        self.fighting_styles += ['kung fu', 'tae kwon do', 'aikido', 'drunken monk']\n",
    "        self.trained = True\n",
    "        print(f' you now know {\" \".join(self.fighting_styles)}')\n",
    "        \n",
    "    def additional_training(self, fighting_styles):\n",
    "        self.fighting_styles.append(fighting_styles)\n",
    "        self.display_fighting_styles\n",
    "        \n",
    "    def display_fighting_styles(self):\n",
    "        print(f' you now know {\" \".join(self.fighting_styles)}')\n",
    "        \n",
    "    \n",
    "    def update_location(self):\n",
    "#         self.location = 1 if not self.location else 0        \n",
    "        if not self.location:\n",
    "            user_ready = input('Agents attacking! Are you ready to enter Matrix? [y]es/[n]o: ').lower()\n",
    "            if user_ready == 'y':\n",
    "                print('Plugging In Entering Matrix')\n",
    "                self.location = 1\n",
    "            else:\n",
    "                self.location = 0\n",
    "            print(self.location)\n",
    "    \n",
    "matrix_character = MatrixCharacter('neo', ['boxing', 'wrestling'])\n",
    "\n",
    "# matrix_character.receive_training()\n",
    "\n",
    "matrix_character.driver()\n",
    "\n",
    "# matrix_character.update_location()\n",
    "\n",
    "# matrix_character.pill_decision()\n",
    "\n",
    "# print(matrix_character.awake)"
   ]
  },
  {
   "cell_type": "code",
   "execution_count": 71,
   "metadata": {},
   "outputs": [
    {
     "data": {
      "text/plain": [
       "'a b foo'"
      ]
     },
     "execution_count": 71,
     "metadata": {},
     "output_type": "execute_result"
    }
   ],
   "source": [
    "[1,2,3] + [4,5,6]\n",
    "\n",
    "# take a list/collection, combine them into a string\n",
    "# syntax is an \"empty string\", you can put space to add spaces between the characters, then .join() and put what you\n",
    "# want to join in the parenthesis\n",
    "' '.join(['a','b','foo'])"
   ]
  },
  {
   "cell_type": "markdown",
   "metadata": {},
   "source": [
    "##### Calling"
   ]
  },
  {
   "cell_type": "code",
   "execution_count": null,
   "metadata": {},
   "outputs": [],
   "source": [
    "# See Above"
   ]
  },
  {
   "cell_type": "markdown",
   "metadata": {},
   "source": [
    "##### Modifying an Attribute's Value Through a Method"
   ]
  },
  {
   "cell_type": "code",
   "execution_count": null,
   "metadata": {},
   "outputs": [],
   "source": []
  },
  {
   "cell_type": "markdown",
   "metadata": {},
   "source": [
    "##### Incrementing an Attribute's Value Through a Method"
   ]
  },
  {
   "cell_type": "code",
   "execution_count": null,
   "metadata": {},
   "outputs": [],
   "source": []
  },
  {
   "cell_type": "markdown",
   "metadata": {},
   "source": [
    "##### In-Class Exercise #3 - Add a method that takes in three parameters of year, doors and seats and prints out a formatted print statement with make, model, year, seats, and doors"
   ]
  },
  {
   "cell_type": "code",
   "execution_count": 95,
   "metadata": {},
   "outputs": [
    {
     "name": "stdout",
     "output_type": "stream",
     "text": [
      "This car is from 2022 and is a Audi R8 and has 2 doors and 2 seats\n",
      "2022\n",
      "2\n",
      "2\n"
     ]
    }
   ],
   "source": [
    "# Create class with 2 paramters inside of the __init__ which are make and model\n",
    "\n",
    "# Inside of the Car class create a method that has 4 parameter in total (self,year,door,seats)\n",
    "\n",
    "# Output: This car is from 2019 and is a Ford Expolorer and has 4 doors and 5 seats\n",
    "\n",
    "class Vehicle:\n",
    "    \n",
    "    def __init__(self, make, model):\n",
    "        self.make = make\n",
    "        self.model = model\n",
    "        \n",
    "    def add_car_info(self, year, doors, seats):\n",
    "        self.year = year\n",
    "        self.doors = doors\n",
    "        self.seats = seats\n",
    "        print(f'This car is from {year} and is a {car.make} {car.model} and has {doors} doors and {seats} seats')\n",
    "        \n",
    "        \n",
    "car = Vehicle(\"Audi\", \"R8\")\n",
    "car.add_car_info(2022, 2, 2)\n",
    "print(car.year)\n",
    "print(car.doors)\n",
    "print(car.seats)"
   ]
  },
  {
   "cell_type": "markdown",
   "metadata": {},
   "source": [
    "## Inheritance <br>\n",
    "<p>You can create a child-parent relationship between two classes by using inheritance. What this allows you to do is have overriding methods, but also inherit traits from the parent class. Think of it as an actual parent and child, the child will inherit the parent's genes, as will the classes in OOP</p>"
   ]
  },
  {
   "cell_type": "markdown",
   "metadata": {},
   "source": [
    "##### Syntax for Inheriting from a Parent Class"
   ]
  },
  {
   "cell_type": "code",
   "execution_count": 110,
   "metadata": {},
   "outputs": [
    {
     "name": "stdout",
     "output_type": "stream",
     "text": [
      "Human Name: legolas Class: ranger\n",
      "None\n",
      "Name: legolas Class: ranger\n"
     ]
    }
   ],
   "source": [
    "class FantasyCharacter:\n",
    "    speed = 20\n",
    "    \n",
    "    def __init__(self,name,_class):\n",
    "        self.name = name\n",
    "        self._class = _class\n",
    "        \n",
    "    def display_character(self):\n",
    "        print(f'Name: {self.name} Class: {self._class}')\n",
    "        \n",
    "# when we are making a class that will inherit from parent class, the () are NOT optional\n",
    "# Because we have to pass the parent class through the child class\n",
    "class FantasyHuman(FantasyCharacter):\n",
    "    \n",
    "    def display_human_character(self):\n",
    "        print(f'Human Name: {self.name} Class: {self._class}')\n",
    "        \n",
    "fantasy_human = FantasyHuman('legolas', 'ranger')\n",
    "\n",
    "# both methods from each class work because the child inherits parent method\n",
    "\n",
    "print(fantasy_human.display_human_character())\n",
    "\n",
    "fantasy_human.display_character()"
   ]
  },
  {
   "cell_type": "markdown",
   "metadata": {},
   "source": [
    "##### The \\__init\\__() Method for a Child Class - super()"
   ]
  },
  {
   "cell_type": "code",
   "execution_count": 119,
   "metadata": {
    "scrolled": true
   },
   "outputs": [
    {
     "data": {
      "text/plain": [
       "{'str': 10, 'con': 16}"
      ]
     },
     "execution_count": 119,
     "metadata": {},
     "output_type": "execute_result"
    }
   ],
   "source": [
    "class Hobbit(FantasyCharacter):\n",
    "    size = 'small'\n",
    "\n",
    "#     can make an init to overwrite the parent class\n",
    "    def __init__(self, name, _class, stats, height):\n",
    "#         access anything we are overwritng\n",
    "        super().__init__(name, _class)\n",
    "        self.stats = stats\n",
    "        self.height = height\n",
    "        \n",
    "    def display_my_class(self):\n",
    "        print(f'I am a {self._class}')\n",
    "        \n",
    "frodo = Hobbit('frodo', 'ranger', {'str': 10,'con':16}, '4ft5')\n",
    "\n",
    "frodo.stats"
   ]
  },
  {
   "cell_type": "markdown",
   "metadata": {},
   "source": [
    "##### Defining Attributes and Methods for the Child Class"
   ]
  },
  {
   "cell_type": "code",
   "execution_count": 120,
   "metadata": {},
   "outputs": [
    {
     "name": "stdout",
     "output_type": "stream",
     "text": [
      "Name: frodo Class: ranger\n"
     ]
    }
   ],
   "source": [
    "# See Above\n",
    "frodo.display_character()"
   ]
  },
  {
   "cell_type": "markdown",
   "metadata": {},
   "source": [
    "##### Method Overriding"
   ]
  },
  {
   "cell_type": "code",
   "execution_count": 124,
   "metadata": {},
   "outputs": [
    {
     "name": "stdout",
     "output_type": "stream",
     "text": [
      "Stout Hobbit\n"
     ]
    }
   ],
   "source": [
    "# See Above\n",
    "# grandchild class to FantasyCharacter and child to Hobbit class\n",
    "\n",
    "class StoutHobbit(Hobbit):\n",
    "    \n",
    "    def __init__(self, name, _class, stats, height, weight):\n",
    "        super().__init__(name, _class, stats, height)\n",
    "        self.weight = weight\n",
    "        \n",
    "#         override \"display_my_class\" from HumanFantasyCharacter\n",
    "\n",
    "    def display_my_class(self):\n",
    "        print('Stout Hobbit')\n",
    "        \n",
    "sam = StoutHobbit('sam', 'paladin', {'str': 10,'con':16}, '4ft4', 200)\n",
    "# can still access from grandparent (the speed is from FantasyCharacter)          \n",
    "print(sam.speed)\n",
    "\n",
    "print(sam.name)\n",
    "\n",
    "sam.display_my_class()"
   ]
  },
  {
   "cell_type": "markdown",
   "metadata": {},
   "source": [
    "## Classes as Attributes <br>\n",
    "<p>Classes can also be used as attributes within another class. This is useful in situations where you need to keep variables locally stored, instead of globally stored.</p>"
   ]
  },
  {
   "cell_type": "code",
   "execution_count": 133,
   "metadata": {},
   "outputs": [
    {
     "data": {
      "text/plain": [
       "0"
      ]
     },
     "execution_count": 133,
     "metadata": {},
     "output_type": "execute_result"
    }
   ],
   "source": [
    "# not inheriting anything so no () needed\n",
    "class Stats:\n",
    "    \n",
    "    def __init__(self, strength = 10, dexterity = 10, constitution = 10, wisdom = 10, intelligence = 10, charisma = 10):\n",
    "        \n",
    "        self.strength = strength\n",
    "        self.dexterity = dexterity\n",
    "        self.constitution = constitution\n",
    "        self.wisdom = wisdom\n",
    "        self.intelligence = intelligence\n",
    "        self.charisma = charisma\n",
    "        \n",
    "    def determine_buff(self, attribute):\n",
    "#         getattr take in object. so we are targeting self and grabbing attribute and converting to string\n",
    "        attribute = getattr(self, attribute)\n",
    "        return (attribute - 10) // 2\n",
    "        \n",
    "        \n",
    "    def __repr__(self):\n",
    "        return '<Stats>'\n",
    "    \n",
    "stats = Stats()\n",
    "\n",
    "# result = input('what attribute do you want to check?: ')\n",
    "# if you run it, it would bring strength as a string if you input for string\n",
    "# 'strength'\n",
    "# stats.strength causes problems because it is a string\n",
    "# stats.result gives \"Stats object has not attribute result\" error\n",
    "# stats.result\n",
    "\n",
    "# that is why you need the below line to grab the number\n",
    "# getattr(stats, 'strength')\n",
    "\n",
    "stats.determine_buff('strength')\n",
    "\n",
    "# Stats() is bound to self.stats from the Hobbit class\n",
    "sam = StoutHobbit('sam', 'paladin', Stats(), '4ft4', 200)\n",
    "\n",
    "sam.stats.determine_buff('dexterity')"
   ]
  },
  {
   "cell_type": "markdown",
   "metadata": {},
   "source": [
    "# Patrick's Lesson"
   ]
  },
  {
   "cell_type": "code",
   "execution_count": 158,
   "metadata": {},
   "outputs": [
    {
     "name": "stdout",
     "output_type": "stream",
     "text": [
      "black\n",
      " bob climbed 4 meters on the oak tree on sunday\n",
      "None\n",
      " before, bob had 1...\n",
      " now, bob had 4!\n",
      " all monkey have 4 tails\n",
      "None\n",
      " bob has 2 ears\n",
      " bob has 8 ears now!\n"
     ]
    }
   ],
   "source": [
    "class Monkey:\n",
    "    \n",
    "#     this is a class attribute that applies globally to all monkeys\n",
    "    number_of_tails = 1\n",
    "    \n",
    "#     if you did self.number_of_tails, it applies to the specific monkeys\n",
    "\n",
    "    \n",
    "    \n",
    "    def __init__(self, name, fur, number_of_ears = 2):\n",
    "        self.name = name\n",
    "        self.fur = fur\n",
    "        self.number_of_ears = number_of_ears\n",
    "        \n",
    "    def climb_tree(self, day, meters = 4, tree = 'oak', ):\n",
    "        print(f' {self.name} climbed {meters} meters on the {tree} tree on {day}')\n",
    "        \n",
    "    def num_monkey_tails():\n",
    "        print(f' all monkey have {Monkey.number_of_tails} tails')\n",
    "        \n",
    "    def multiply_ears(self):\n",
    "        self.number_of_ears = self.number_of_ears * 2\n",
    "        \n",
    "        \n",
    "'''\n",
    "definitions:\n",
    "\n",
    "instance ==> instance of a class (so monkey1 is an instance of Monkey)\n",
    "class ==> Class itself (Monkey)\n",
    "\n",
    "class method (does not have self in parameters) ==> method only class knows about\n",
    "\n",
    "instance method (using def my_method(self), ...)) ==> method only instance knows about\n",
    "'''\n",
    "        \n",
    "monkey1 = Monkey('bob', 'black')\n",
    "monkey2 = Monkey('joe', 'blue')\n",
    "\n",
    "print(monkey1.fur)\n",
    "\n",
    "print(monkey1.climb_tree('sunday'))\n",
    "\n",
    "print(f' before, {monkey1.name} had {monkey1.number_of_tails}...')\n",
    "Monkey.number_of_tails = 4\n",
    "print(f' now, {monkey1.name} had {monkey1.number_of_tails}!')\n",
    "\n",
    "print(Monkey.num_monkey_tails())\n",
    "\n",
    "print(f' {monkey1.name} has {monkey1.number_of_ears} ears')\n",
    "monkey1.multiply_ears()\n",
    "monkey1.multiply_ears()\n",
    "print(f' {monkey1.name} has {monkey1.number_of_ears} ears now!')\n"
   ]
  },
  {
   "cell_type": "markdown",
   "metadata": {},
   "source": [
    "# Exercises"
   ]
  },
  {
   "cell_type": "markdown",
   "metadata": {},
   "source": [
    "### Exercise 1 - Turn the shopping cart program from yesterday into an object-oriented program\n",
    "\n",
    "The comments in the cell below are there as a guide for thinking about the problem. However, if you feel a different way is best for you and your own thought process, please do what feels best for you by all means."
   ]
  },
  {
   "cell_type": "code",
   "execution_count": null,
   "metadata": {},
   "outputs": [],
   "source": [
    "# Create a class called cart that retains items and has methods to add, remove, and show\n",
    "\n",
    "class Cart():\n",
    "    pass\n",
    "    "
   ]
  },
  {
   "cell_type": "markdown",
   "metadata": {},
   "source": [
    "### Exercise 2 - Write a Python class which has two methods get_String and print_String. get_String accept a string from the user and print_String print the string in upper case"
   ]
  },
  {
   "cell_type": "code",
   "execution_count": 179,
   "metadata": {},
   "outputs": [
    {
     "name": "stdout",
     "output_type": "stream",
     "text": [
      "Would you like to [g]et a string, [p]rint a string? or [q]uit: g\n"
     ]
    },
    {
     "ename": "TypeError",
     "evalue": "StringFun.get_string() missing 1 required positional argument: 'self'",
     "output_type": "error",
     "traceback": [
      "\u001b[1;31m---------------------------------------------------------------------------\u001b[0m",
      "\u001b[1;31mTypeError\u001b[0m                                 Traceback (most recent call last)",
      "Cell \u001b[1;32mIn[179], line 32\u001b[0m\n\u001b[0;32m     29\u001b[0m             looper \u001b[38;5;241m=\u001b[39m \u001b[38;5;28;01mTrue\u001b[39;00m\n\u001b[0;32m     31\u001b[0m string_fun_instance \u001b[38;5;241m=\u001b[39m StringFun()\n\u001b[1;32m---> 32\u001b[0m string_fun_instance\u001b[38;5;241m.\u001b[39mstring_driver()\n",
      "Cell \u001b[1;32mIn[179], line 11\u001b[0m, in \u001b[0;36mStringFun.string_driver\u001b[1;34m(self)\u001b[0m\n\u001b[0;32m      9\u001b[0m string_selection \u001b[38;5;241m=\u001b[39m \u001b[38;5;28minput\u001b[39m(\u001b[38;5;124m\"\u001b[39m\u001b[38;5;124mWould you like to [g]et a string, [p]rint a string? or [q]uit: \u001b[39m\u001b[38;5;124m\"\u001b[39m)\u001b[38;5;241m.\u001b[39mlower()\n\u001b[0;32m     10\u001b[0m \u001b[38;5;28;01mif\u001b[39;00m string_selection \u001b[38;5;241m==\u001b[39m \u001b[38;5;124m'\u001b[39m\u001b[38;5;124mg\u001b[39m\u001b[38;5;124m'\u001b[39m:\n\u001b[1;32m---> 11\u001b[0m     StringFun\u001b[38;5;241m.\u001b[39mget_string()\n\u001b[0;32m     12\u001b[0m \u001b[38;5;28;01melif\u001b[39;00m string_selection \u001b[38;5;241m==\u001b[39m \u001b[38;5;124m'\u001b[39m\u001b[38;5;124mp\u001b[39m\u001b[38;5;124m'\u001b[39m:\n\u001b[0;32m     13\u001b[0m     StringFun\u001b[38;5;241m.\u001b[39mprint_string()\n",
      "\u001b[1;31mTypeError\u001b[0m: StringFun.get_string() missing 1 required positional argument: 'self'"
     ]
    }
   ],
   "source": [
    "class StringFun:\n",
    "    \n",
    "    def __init__(self):\n",
    "        self.received_string = None\n",
    "    \n",
    "    def string_driver(self):\n",
    "        looper = True\n",
    "        while looper == True:\n",
    "            string_selection = input(\"Would you like to [g]et a string, [p]rint a string? or [q]uit: \").lower()\n",
    "            if string_selection == 'g':\n",
    "                StringFun.get_string()\n",
    "            elif string_selection == 'p':\n",
    "                StringFun.print_string()\n",
    "            elif string_selection == 'q':\n",
    "                break\n",
    "            else:\n",
    "                print('Please enter a valid option')\n",
    "                looper = True\n",
    "        \n",
    "    \n",
    "    def get_string(self):\n",
    "        self.received_string = input(\"Please enter a string: \").upper()\n",
    "        \n",
    "    def print_string(self):\n",
    "        if self.received_string:\n",
    "            print(self.receoved_string)\n",
    "        else:\n",
    "            print(\"There is not string to print, please enter a string first\")\n",
    "            looper = True\n",
    "            \n",
    "string_fun_instance = StringFun()\n",
    "string_fun_instance.string_driver()"
   ]
  },
  {
   "cell_type": "code",
   "execution_count": null,
   "metadata": {},
   "outputs": [],
   "source": []
  },
  {
   "cell_type": "code",
   "execution_count": null,
   "metadata": {},
   "outputs": [],
   "source": []
  },
  {
   "cell_type": "code",
   "execution_count": null,
   "metadata": {},
   "outputs": [],
   "source": []
  }
 ],
 "metadata": {
  "kernelspec": {
   "display_name": "Python 3 (ipykernel)",
   "language": "python",
   "name": "python3"
  },
  "language_info": {
   "codemirror_mode": {
    "name": "ipython",
    "version": 3
   },
   "file_extension": ".py",
   "mimetype": "text/x-python",
   "name": "python",
   "nbconvert_exporter": "python",
   "pygments_lexer": "ipython3",
   "version": "3.11.3"
  }
 },
 "nbformat": 4,
 "nbformat_minor": 2
}
